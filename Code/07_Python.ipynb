{
 "cells": [
  {
   "cell_type": "markdown",
   "metadata": {},
   "source": [
    "# Script to analyze the gene expression over different bins\n",
    "### Genome Analysis Project, VT24\n",
    "\n",
    "**Last Changed:** 2024-04-29"
   ]
  },
  {
   "cell_type": "markdown",
   "metadata": {},
   "source": [
    "## 1) Read the data\n",
    "\n",
    "Open the data files (.tsv) and store them as pandas dataframes"
   ]
  },
  {
   "cell_type": "code",
   "execution_count": 1,
   "metadata": {},
   "outputs": [],
   "source": [
    "# Import the necessary packages\n",
    "import os\n",
    "import pandas as pd"
   ]
  },
  {
   "cell_type": "code",
   "execution_count": 10,
   "metadata": {},
   "outputs": [],
   "source": [
    "# Define the path to the directory containing the data files (.tsv format)\n",
    "directory = '/Users/claranordquist/Documents/Universitetet/VT/Genome_Analysis/Lab_Project/Feature_analysis/'\n",
    "\n",
    "# Create a dictionary where all the dataframes will be stored for each bin\n",
    "# Create another dictionary where the data is pooled so that there is just one dataset for the high (SRR4342137) and one for the low oxygen (SRR4342139) environment\n",
    "bin_dataframes = {}\n",
    "env_dataframes = {'High':pd.DataFrame(), 'Low':pd.DataFrame()}\n",
    "\n",
    "# Loop over the files in the input directory and pick those that end with .tsv\n",
    "# For those, read the files and make them into dataframes\n",
    "for file in os.listdir(directory):\n",
    "    if file.endswith('.tsv'):\n",
    "        basename = file[:-4]\n",
    "        bin_dataframes[basename] = pd.read_table(os.path.join(directory, file), sep='\\t', skiprows=1, header=None)\n",
    "        bin_dataframes[basename].columns = [\"Count\", \"Gene_ID\", \"ftype\", \"length_bp\", \"gene\", \"EC_number\", \"COG\", \"Product\"]\n",
    "\n",
    "        if basename.endswith('SRR4342137'):\n",
    "            env_dataframes['High'] = pd.concat([env_dataframes['High'], bin_dataframes[basename]], axis=0)\n",
    "        else:\n",
    "            env_dataframes['Low'] = pd.concat([env_dataframes['Low'], bin_dataframes[basename]], axis=0)"
   ]
  },
  {
   "cell_type": "code",
   "execution_count": null,
   "metadata": {},
   "outputs": [],
   "source": [
    "# This can be used to merge rows that are from the same feature, if multiple bins would show the same feature \n",
    "# Don't know if this is necessary though?\n",
    "aggregate_function = {\"Count\":'sum', \"Gene_ID\":'first', \"ftype\":'first', \"length_bp\":'first', \"gene\":'first', \"EC_number\":'first', \"COG\":'first', \"Product\":'first'}\n",
    "\n",
    "for env, data in env_dataframes.items():\n",
    "    data = data.groupby(data['Gene_ID']).aggregate(aggregate_function)"
   ]
  },
  {
   "cell_type": "markdown",
   "metadata": {},
   "source": [
    "## 2) What do I want to visualize?\n",
    "\n",
    "Count = How many RNA reads were mapped to that feature\n",
    "\n",
    "Gene_ID = The Prokka ID for the feature\n",
    "\n",
    "ftype = CDS, coding sequence\n",
    "\n",
    "length_bp = Length of the feature\n",
    "\n",
    "Gene = Gene name\n",
    "\n",
    "EC_number = Numerical classification for enzymes based on the chemical reactions they catalyze\n",
    "\n",
    "COG = Cluster of orthologous genes\n",
    "\n",
    "Product = Description of the gene product (when known)"
   ]
  }
 ],
 "metadata": {
  "kernelspec": {
   "display_name": "base",
   "language": "python",
   "name": "python3"
  },
  "language_info": {
   "codemirror_mode": {
    "name": "ipython",
    "version": 3
   },
   "file_extension": ".py",
   "mimetype": "text/x-python",
   "name": "python",
   "nbconvert_exporter": "python",
   "pygments_lexer": "ipython3",
   "version": "3.8.8"
  }
 },
 "nbformat": 4,
 "nbformat_minor": 2
}
